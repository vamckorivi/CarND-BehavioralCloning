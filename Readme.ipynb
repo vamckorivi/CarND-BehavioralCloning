{
 "cells": [
  {
   "cell_type": "code",
   "execution_count": 2,
   "metadata": {
    "collapsed": false
   },
   "outputs": [],
   "source": [
    "#all the import statements here\n",
    "import pandas as pd\n",
    "import matplotlib.image as mpimg\n",
    "import matplotlib.pyplot as plt\n",
    "import cv2\n",
    "import numpy as np"
   ]
  },
  {
   "cell_type": "code",
   "execution_count": 3,
   "metadata": {
    "collapsed": false
   },
   "outputs": [
    {
     "name": "stdout",
     "output_type": "stream",
     "text": [
      "(8036, 7)\n",
      "8036\n"
     ]
    },
    {
     "data": {
      "text/html": [
       "<div>\n",
       "<table border=\"1\" class=\"dataframe\">\n",
       "  <thead>\n",
       "    <tr style=\"text-align: right;\">\n",
       "      <th></th>\n",
       "      <th>center</th>\n",
       "      <th>left</th>\n",
       "      <th>right</th>\n",
       "      <th>steering</th>\n",
       "      <th>throttle</th>\n",
       "      <th>brake</th>\n",
       "      <th>speed</th>\n",
       "    </tr>\n",
       "  </thead>\n",
       "  <tbody>\n",
       "    <tr>\n",
       "      <th>0</th>\n",
       "      <td>IMG/center_2016_12_01_13_30_48_287.jpg</td>\n",
       "      <td>IMG/left_2016_12_01_13_30_48_287.jpg</td>\n",
       "      <td>IMG/right_2016_12_01_13_30_48_287.jpg</td>\n",
       "      <td>0.0</td>\n",
       "      <td>0.0</td>\n",
       "      <td>0.0</td>\n",
       "      <td>22.148290</td>\n",
       "    </tr>\n",
       "    <tr>\n",
       "      <th>1</th>\n",
       "      <td>IMG/center_2016_12_01_13_30_48_404.jpg</td>\n",
       "      <td>IMG/left_2016_12_01_13_30_48_404.jpg</td>\n",
       "      <td>IMG/right_2016_12_01_13_30_48_404.jpg</td>\n",
       "      <td>0.0</td>\n",
       "      <td>0.0</td>\n",
       "      <td>0.0</td>\n",
       "      <td>21.879630</td>\n",
       "    </tr>\n",
       "    <tr>\n",
       "      <th>2</th>\n",
       "      <td>IMG/center_2016_12_01_13_31_12_937.jpg</td>\n",
       "      <td>IMG/left_2016_12_01_13_31_12_937.jpg</td>\n",
       "      <td>IMG/right_2016_12_01_13_31_12_937.jpg</td>\n",
       "      <td>0.0</td>\n",
       "      <td>0.0</td>\n",
       "      <td>0.0</td>\n",
       "      <td>1.453011</td>\n",
       "    </tr>\n",
       "    <tr>\n",
       "      <th>3</th>\n",
       "      <td>IMG/center_2016_12_01_13_31_13_037.jpg</td>\n",
       "      <td>IMG/left_2016_12_01_13_31_13_037.jpg</td>\n",
       "      <td>IMG/right_2016_12_01_13_31_13_037.jpg</td>\n",
       "      <td>0.0</td>\n",
       "      <td>0.0</td>\n",
       "      <td>0.0</td>\n",
       "      <td>1.438419</td>\n",
       "    </tr>\n",
       "    <tr>\n",
       "      <th>4</th>\n",
       "      <td>IMG/center_2016_12_01_13_31_13_177.jpg</td>\n",
       "      <td>IMG/left_2016_12_01_13_31_13_177.jpg</td>\n",
       "      <td>IMG/right_2016_12_01_13_31_13_177.jpg</td>\n",
       "      <td>0.0</td>\n",
       "      <td>0.0</td>\n",
       "      <td>0.0</td>\n",
       "      <td>1.418236</td>\n",
       "    </tr>\n",
       "  </tbody>\n",
       "</table>\n",
       "</div>"
      ],
      "text/plain": [
       "                                   center  \\\n",
       "0  IMG/center_2016_12_01_13_30_48_287.jpg   \n",
       "1  IMG/center_2016_12_01_13_30_48_404.jpg   \n",
       "2  IMG/center_2016_12_01_13_31_12_937.jpg   \n",
       "3  IMG/center_2016_12_01_13_31_13_037.jpg   \n",
       "4  IMG/center_2016_12_01_13_31_13_177.jpg   \n",
       "\n",
       "                                    left  \\\n",
       "0   IMG/left_2016_12_01_13_30_48_287.jpg   \n",
       "1   IMG/left_2016_12_01_13_30_48_404.jpg   \n",
       "2   IMG/left_2016_12_01_13_31_12_937.jpg   \n",
       "3   IMG/left_2016_12_01_13_31_13_037.jpg   \n",
       "4   IMG/left_2016_12_01_13_31_13_177.jpg   \n",
       "\n",
       "                                    right  steering  throttle  brake  \\\n",
       "0   IMG/right_2016_12_01_13_30_48_287.jpg       0.0       0.0    0.0   \n",
       "1   IMG/right_2016_12_01_13_30_48_404.jpg       0.0       0.0    0.0   \n",
       "2   IMG/right_2016_12_01_13_31_12_937.jpg       0.0       0.0    0.0   \n",
       "3   IMG/right_2016_12_01_13_31_13_037.jpg       0.0       0.0    0.0   \n",
       "4   IMG/right_2016_12_01_13_31_13_177.jpg       0.0       0.0    0.0   \n",
       "\n",
       "       speed  \n",
       "0  22.148290  \n",
       "1  21.879630  \n",
       "2   1.453011  \n",
       "3   1.438419  \n",
       "4   1.418236  "
      ]
     },
     "execution_count": 3,
     "metadata": {},
     "output_type": "execute_result"
    }
   ],
   "source": [
    "#Read driving_log.csv and the images(Udacity Training Set, No New images generated for this assignment)\n",
    "\n",
    "data = pd.read_csv(\"./data/driving_log.csv\")\n",
    "print(data.shape)\n",
    "print(data.shape[0])\n",
    "\n",
    "data.head()"
   ]
  },
  {
   "cell_type": "code",
   "execution_count": 4,
   "metadata": {
    "collapsed": false
   },
   "outputs": [
    {
     "data": {
      "image/png": "[encoded data removed]",
      "text/plain": [
       "<matplotlib.figure.Figure at 0x110824898>"
      ]
     },
     "metadata": {},
     "output_type": "display_data"
    }
   ],
   "source": [
    "#display the data sample\n",
    "#Similar to how we plotted histogram for Traffic Sign Classification. Plotting Histogram...\n",
    "#To see how well the data set is balanced\n",
    "steering_angle = data[\"steering\"]\n",
    "steering_angle_counts=np.unique(steering_angle,return_counts=True)\n",
    "bins_hist = steering_angle_counts[1].size\n",
    "steering_angle.plot.hist(bins=bins_hist)\n",
    "plt.show()\n",
    "#print(steering_angle_counts[1].size)#we have 124 different steering angles in the training set\n",
    "#As we can see in the below histogram, steering angle 0 is the predominant one. Car is driven in the center mostly.\n",
    "#I might need to create the Recovery Training Set if this data doesn't perform well on the track"
   ]
  },
  {
   "cell_type": "code",
   "execution_count": null,
   "metadata": {
    "collapsed": false
   },
   "outputs": [],
   "source": [
    "#Loading the images\n",
    "X_center = data[\"center\"]\n",
    "X_left = data[\"left\"]\n",
    "X_right = data[\"right\"]\n",
    "\n",
    "\n",
    "img = []\n",
    "#Displaying 9 images. 3 from each center, left, right\n",
    "#added strip() on the names as some of the images have spaces in their names in the driving_log.csv file\n",
    "for i in range(3):\n",
    "    img.append(mpimg.imread(X_center[i].strip()))\n",
    "    img.append(mpimg.imread(X_left[i].strip()))\n",
    "    img.append(mpimg.imread(X_right[i].strip()))\n",
    "    \n",
    "    \n",
    "for i in range(9):\n",
    "    axis = plt.subplot(3,3,i+1)\n",
    "    axis.set_xticklabels([])\n",
    "    axis.set_yticklabels([])\n",
    "    plt.imshow(img[i])\n",
    "plt.show()\n",
    "\n",
    "print(X_center[1].strip())\n",
    "print(img[0].shape)#Printing given image shape. It is 160,320, 3. Need to re-size for the NVIDIA Model-66,208,3"
   ]
  },
  {
   "cell_type": "code",
   "execution_count": null,
   "metadata": {
    "collapsed": false
   },
   "outputs": [],
   "source": [
    "#using CV2 to display images. Commenting out as image displaying is not required twice\n",
    "# image = cv2.imread(\"IMG/center_2016_12_01_13_30_48_287.jpg\")\n",
    "# image = cv2.cvtColor(image,cv2.COLOR_BGR2RGB)\n",
    "# plt.imshow(image)\n",
    "# plt.show()"
   ]
  },
  {
   "cell_type": "code",
   "execution_count": null,
   "metadata": {
    "collapsed": false
   },
   "outputs": [],
   "source": [
    "image = img[0]\n",
    "#Resizing image to remove the sky and the hood. Hint taken from the peers from Slack channel to avoid fitting trees and sky\n",
    "print(image.shape)\n",
    "\n",
    "image = image[45:145,:]\n",
    "print(image.shape)\n",
    "\n",
    "image = cv2.resize(image, (208,66))\n",
    "plt.imshow(image)\n",
    "plt.show()"
   ]
  },
  {
   "cell_type": "code",
   "execution_count": null,
   "metadata": {
    "collapsed": true
   },
   "outputs": [],
   "source": [
    "#Resizing images for NVIDIA Model\n",
    "def resize(image_loc):\n",
    "    image_loc = image_loc.strip()\n",
    "    image = cv2.imread(image_loc)\n",
    "    image = cv2.cvtColor(image,cv2.COLOR_BGR2RGB)\n",
    "    new_image = cv2.resize(image, (208,66))\n",
    "    return new_image"
   ]
  },
  {
   "cell_type": "code",
   "execution_count": null,
   "metadata": {
    "collapsed": false
   },
   "outputs": [],
   "source": [
    "#commenting this code, will try to use fit_generator\n",
    "# X_center_rs=[]\n",
    "# X_left_rs=[]\n",
    "# X_right_rs=[]\n",
    "# for i in range(len(X_center)):\n",
    "#     X_center_rs.append(resize(X_center[i]))\n",
    "#     X_left_rs.append(resize(X_left[i]))\n",
    "#     X_right_rs.append(resize(X_right[i]))\n",
    "\n",
    "# X_center_rs = np.array(X_center_rs)\n",
    "#steering_angle = np.array(steering_angle)"
   ]
  },
  {
   "cell_type": "code",
   "execution_count": null,
   "metadata": {
    "collapsed": false
   },
   "outputs": [],
   "source": [
    "#commenting this code, will try to use fit_generator\n",
    "#generating more data\n",
    "#let me flip random images and add to the training set\n",
    "# X_center_flip = []\n",
    "# steering_angle_flip = []\n",
    "# for i in range(len(X_center_rs)):\n",
    "#     flip = np.random.randint(2)\n",
    "#     image = X_center_rs[i]\n",
    "#     steer = steering_angle[i]\n",
    "#     if flip==0:\n",
    "#         image = cv2.flip(image, 1)\n",
    "#         steer = -steer\n",
    "#     X_center_flip.append(image)\n",
    "#     steering_angle_flip.append(steer)\n",
    "\n",
    "\n",
    "# X_center_rs = np.append(X_center_rs,X_center_flip, axis=0)\n",
    "# steering_angle = np.array(steering_angle)\n",
    "# steering_angle = np.append(steering_angle,steering_angle_flip, axis=0)\n",
    "        \n"
   ]
  },
  {
   "cell_type": "code",
   "execution_count": null,
   "metadata": {
    "collapsed": true
   },
   "outputs": [],
   "source": [
    "#all the functions here\n",
    "def preprocessed_data(row):\n",
    "    steering = row['steering']\n",
    "    #print(\"preprocess_daa\")\n",
    "    # randomly choose the camera to take the image from\n",
    "    camera = np.random.choice(['center', 'left', 'right'])\n",
    "\n",
    "    # adjust the steering angle for left anf right cameras\n",
    "    if camera == 'left':\n",
    "        steering += 0.25\n",
    "    elif camera == 'right':\n",
    "        steering -= 0.25\n",
    "\n",
    "    #imag_ = load_img(\"IMG/\" + row[camera].strip())\n",
    "    #print(camera)\n",
    "    image_loc = row[camera][0]\n",
    "    #print(image_loc)\n",
    "    image_loc = image_loc.strip()\n",
    "    #print(image_loc)\n",
    "    image = cv2.imread(image_loc)\n",
    "    image = cv2.cvtColor(image,cv2.COLOR_BGR2RGB)\n",
    "    #image = np.array(image)\n",
    "    #print(\"hi1\")\n",
    "    # decide whether to horizontally flip the image:\n",
    "    # This is done to reduce the bias for turning left that is present in the training data\n",
    "    flip_prob = np.random.random()\n",
    "    if flip_prob > 0.5:\n",
    "        # flip the image and reverse the steering angle\n",
    "        steering = -1*steering\n",
    "        image = cv2.flip(image, 1)\n",
    "\n",
    "    # Apply brightness augmentation\n",
    "    #image = augment_brightness_camera_images(image)\n",
    "\n",
    "    # Crop, resize and normalize the image\n",
    "    image = image[55:135, :, :]\n",
    "    image = cv2.resize(image,(64,64))\n",
    "    image  = image/255.-.5\n",
    "    return image, steering\n",
    "\n",
    "def train_generaotr(data_df):\n",
    "    batch_images = np.zeros((32, 64, 64, 3))\n",
    "    batch_angles = np.zeros(32)\n",
    "    #print(\"in train\")\n",
    "    while True:\n",
    "        for i in range (32):\n",
    "            # Randomly get a sample from the input data\n",
    "            #print(i)\n",
    "            idx = np.random.randint(len(data_df))\n",
    "\n",
    "            # reset_index sets this data_df starting row to 0\n",
    "            data_row = data_df.iloc[[idx]].reset_index()\n",
    "            img1, angle1 = preprocessed_data(data_row)\n",
    "\n",
    "            batch_images[i] = img1\n",
    "            batch_angles[i] = angle1\n",
    "            \n",
    "        yield batch_images, batch_angles\n",
    "    \n",
    "    #yield images, angles#using yield instead of return as we need generator but not the iterator\n",
    "\n",
    "def valid_generator(validation_data):\n",
    "    while(True):\n",
    "        row = validation_data.loc[0]\n",
    "        steering = row['steering']\n",
    "        img = row['center']\n",
    "        yield img, steering\n",
    "    "
   ]
  },
  {
   "cell_type": "code",
   "execution_count": null,
   "metadata": {
    "collapsed": false
   },
   "outputs": [],
   "source": [
    "#model goes here. After reading all the peers blog post, i am going to directly start off with NVIDIA.\n",
    "#I would see this as another version of Transfer Learning, learning from peers experience and directly hitting NVIDIA Model.\n",
    "#No Preprocessing done yet. As I wanted to see how the car performs without performing any transformation(except resizing) and then play\n",
    "#with the transformations.\n",
    "from keras.models import Sequential\n",
    "from keras.layers import Flatten, Dense, Activation, Convolution2D, MaxPooling2D, Dropout\n",
    "def keras_lab():\n",
    "    model = Sequential()\n",
    "    model.add(Convolution2D(32,3,3,border_mode='valid', input_shape=(64,64,3)))\n",
    "    model.add(MaxPooling2D(pool_size=(2,2)))\n",
    "    model.add(Dropout(0.5))\n",
    "    model.add(Activation('relu'))\n",
    "    model.add(Flatten())\n",
    "    model.add(Dense(128))\n",
    "    model.add(Activation('relu'))\n",
    "    model.add(Dense(43))\n",
    "    model.add(Activation('relu'))\n",
    "    model.add(Dense(1))\n",
    "    \n",
    "    model.compile('adam','mse')\n",
    "    return model"
   ]
  },
  {
   "cell_type": "code",
   "execution_count": null,
   "metadata": {
    "collapsed": true
   },
   "outputs": [],
   "source": []
  },
  {
   "cell_type": "code",
   "execution_count": null,
   "metadata": {
    "collapsed": false
   },
   "outputs": [],
   "source": [
    "from sklearn.preprocessing import OneHotEncoder\n",
    "#y_one_hot = OneHotEncoder(y_train,len(y_train))\n",
    "\n",
    "OHC = OneHotEncoder()\n",
    "\n",
    "n_classes = np.unique(steering_angle).size\n",
    "print(n_classes)\n",
    "Y_ohc = OHC.fit(np.arange(n_classes).reshape(-1, 1))\n",
    "y_one_hot = Y_ohc.transform(steering_angle.reshape(-1, 1)).toarray()"
   ]
  },
  {
   "cell_type": "code",
   "execution_count": null,
   "metadata": {
    "collapsed": false
   },
   "outputs": [],
   "source": [
    "#Running the model\n",
    "from keras.models import model_from_json\n",
    "import json\n",
    "from keras.preprocessing.image import img_to_array, load_img\n",
    "model = keras_lab()\n",
    "#X_center_rs = np.array(X_center_rs)\n",
    "#history = model.fit(X_center_rs, steering_angle, batch_size=128, nb_epoch=15, validation_split=0.2)\n",
    "#model.fit_generator(train_generator, validation_data=validation_generator,\n",
    "                        #samples_per_epoch=samples_per_epoch, nb_epoch=1, nb_val_samples=3000)\n"
   ]
  },
  {
   "cell_type": "code",
   "execution_count": null,
   "metadata": {
    "collapsed": true
   },
   "outputs": [],
   "source": [
    "def get_primes(number):\n",
    "    while True:\n",
    "        if is_prime(number):\n",
    "            yield number\n",
    "        number += 1\n",
    "\n",
    "def is_prime(number):\n",
    "    return True"
   ]
  },
  {
   "cell_type": "code",
   "execution_count": null,
   "metadata": {
    "collapsed": false
   },
   "outputs": [],
   "source": [
    "#df = df.sample(frac=1).reset_index(drop=True)\n",
    "data = data\n",
    "data = data.sample(frac=1).reset_index(drop=True)\n",
    "#splitting data into 80%training, 20%validation\n",
    "training_data_index = int(data.shape[0]*0.8)\n",
    "training_data = data.loc[0:training_data_index-1]\n",
    "validation_data = data.loc[training_data_index:]\n",
    "#print(training_data.shape)\n",
    "#print(validation_data.shape)\n",
    "\n",
    "#testing generator with yield\n",
    "#gener_exam = get_primes(5)\n",
    "#print(gener_exam)\n",
    "training_generaotr = train_generaotr(training_data)\n",
    "#print(train_generaotr)\n",
    "validation_generator = train_generaotr(validation_data)\n",
    "#print(validation_generator)\n",
    "history = model.fit_generator(training_generaotr, validation_data=validation_generator,\n",
    "                              samples_per_epoch=2016, nb_epoch=10, nb_val_samples=1000)"
   ]
  },
  {
   "cell_type": "markdown",
   "metadata": {},
   "source": [
    "\n",
    "\n",
    "#fit_generator(self, generator, samples_per_epoch, nb_epoch, verbose=1, callbacks=None, validation_data=None, nb_val_samples=None, class_weight=None, max_q_size=10, nb_worker=1, pickle_safe=False, initial_epoch=0)\n",
    "Arguments\n",
    "\n",
    "generator: a generator. The output of the generator must be either\n",
    "a tuple (inputs, targets)\n",
    "a tuple (inputs, targets, sample_weights). All arrays should contain the same number of samples. The generator is expected to loop over its data indefinitely. An epoch finishes when samples_per_epoch samples have been seen by the model.\n",
    "\n",
    "samples_per_epoch: integer, number of samples to process before going to the next epoch.\n",
    "\n",
    "nb_epoch: integer, total number of iterations on the data.\n",
    "\n",
    "verbose: verbosity mode, 0, 1, or 2.\n",
    "\n",
    "callbacks: list of callbacks to be called during training.\n",
    "\n",
    "validation_data: this can be either\n",
    "a generator for the validation data\n",
    "a tuple (inputs, targets)\n",
    "a tuple (inputs, targets, sample_weights).\n",
    "\n",
    "nb_val_samples: only relevant if validation_data is a generator. number of samples to use from validation generator at the end of every epoch.\n",
    "\n",
    "class_weight: dictionary mapping class indices to a weight for the class.\n",
    "\n",
    "max_q_size: maximum size for the generator queue\n",
    "\n",
    "nb_worker: maximum number of processes to spin up\n",
    "\n",
    "pickle_safe: if True, use process based threading. Note that because this implementation relies on multiprocessing, you should not pass non picklable arguments to the generator as they can't be passed easily to children processes.\n",
    "\n",
    "initial_epoch: epoch at which to start training (useful for resuming a previous training run)"
   ]
  },
  {
   "cell_type": "code",
   "execution_count": null,
   "metadata": {
    "collapsed": false
   },
   "outputs": [],
   "source": [
    "json_string = model.to_json()\n",
    "with open(\"model.json\", 'w') as outfile:\n",
    "    json.dump(json_string, outfile)\n",
    "model.save_weights(\"model.h5\")"
   ]
  },
  {
   "cell_type": "code",
   "execution_count": null,
   "metadata": {
    "collapsed": true
   },
   "outputs": [],
   "source": []
  },
  {
   "cell_type": "code",
   "execution_count": null,
   "metadata": {
    "collapsed": true
   },
   "outputs": [],
   "source": []
  }
 ],
 "metadata": {
  "anaconda-cloud": {},
  "kernelspec": {
   "display_name": "Python [conda env:keras]",
   "language": "python",
   "name": "conda-env-keras-py"
  },
  "language_info": {
   "codemirror_mode": {
    "name": "ipython",
    "version": 3
   },
   "file_extension": ".py",
   "mimetype": "text/x-python",
   "name": "python",
   "nbconvert_exporter": "python",
   "pygments_lexer": "ipython3",
   "version": "3.5.2"
  }
 },
 "nbformat": 4,
 "nbformat_minor": 2
}
